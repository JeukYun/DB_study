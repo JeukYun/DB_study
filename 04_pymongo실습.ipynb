{
 "cells": [
  {
   "cell_type": "code",
   "execution_count": 1,
   "metadata": {},
   "outputs": [
    {
     "name": "stdout",
     "output_type": "stream",
     "text": [
      "Collecting pymongo\n",
      "  Downloading pymongo-4.5.0-cp38-cp38-win_amd64.whl (467 kB)\n",
      "                                              0.0/468.0 kB ? eta -:--:--\n",
      "     ------------------------------------  460.8/468.0 kB 14.5 MB/s eta 0:00:01\n",
      "     -------------------------------------- 468.0/468.0 kB 9.7 MB/s eta 0:00:00\n",
      "Collecting dnspython<3.0.0,>=1.16.0 (from pymongo)\n",
      "  Downloading dnspython-2.4.2-py3-none-any.whl (300 kB)\n",
      "                                              0.0/300.4 kB ? eta -:--:--\n",
      "     -------------------------------------- 300.4/300.4 kB 9.4 MB/s eta 0:00:00\n",
      "Installing collected packages: dnspython, pymongo\n",
      "Successfully installed dnspython-2.4.2 pymongo-4.5.0\n"
     ]
    },
    {
     "name": "stderr",
     "output_type": "stream",
     "text": [
      "\n",
      "[notice] A new release of pip is available: 23.1.2 -> 23.2.1\n",
      "[notice] To update, run: python.exe -m pip install --upgrade pip\n"
     ]
    }
   ],
   "source": [
    "!pip install pymongo"
   ]
  },
  {
   "cell_type": "code",
   "execution_count": 2,
   "metadata": {},
   "outputs": [],
   "source": [
    "from pymongo import MongoClient"
   ]
  },
  {
   "cell_type": "code",
   "execution_count": 3,
   "metadata": {},
   "outputs": [],
   "source": [
    "client = MongoClient(\"mongodb://localhost:27017/\")"
   ]
  },
  {
   "cell_type": "code",
   "execution_count": 4,
   "metadata": {},
   "outputs": [],
   "source": [
    "# test-db 라는 이름의 데이터베이스에 접속\n",
    "db = client['test-db']"
   ]
  },
  {
   "cell_type": "code",
   "execution_count": 5,
   "metadata": {},
   "outputs": [
    {
     "name": "stdout",
     "output_type": "stream",
     "text": [
      "['admin', 'config', 'local']\n"
     ]
    }
   ],
   "source": [
    "print(client.list_database_names())"
   ]
  },
  {
   "cell_type": "code",
   "execution_count": 8,
   "metadata": {},
   "outputs": [
    {
     "data": {
      "text/plain": [
       "{'author': 'Mike',\n",
       " 'text': 'My first blog post!',\n",
       " 'tags': ['mongodb', 'python', 'pymongo'],\n",
       " 'date': datetime.datetime(2023, 8, 29, 8, 17, 33, 547348)}"
      ]
     },
     "execution_count": 8,
     "metadata": {},
     "output_type": "execute_result"
    }
   ],
   "source": [
    "# dict 데이터 생성\n",
    "import datetime\n",
    "\n",
    "post = {\"author\" : \"Mike\",\n",
    "        \"text\" : \"My first blog post!\",\n",
    "        \"tags\" : [\"mongodb\", \"python\", \"pymongo\"],\n",
    "        \"date\" : datetime.datetime.utcnow()}\n",
    "post"
   ]
  },
  {
   "cell_type": "code",
   "execution_count": 10,
   "metadata": {},
   "outputs": [
    {
     "name": "stdout",
     "output_type": "stream",
     "text": [
      "<pymongo.results.InsertOneResult object at 0x000001B61F918310>\n"
     ]
    }
   ],
   "source": [
    "# Collection 접근 - 'post' Colletion\n",
    "posts = db.posts\n",
    "\n",
    "# Documnet 추가 - insert_one() 메서드 이용\n",
    "post_id = posts.insert_one(post)\n",
    "\n",
    "print(post_id)"
   ]
  },
  {
   "cell_type": "code",
   "execution_count": 12,
   "metadata": {},
   "outputs": [],
   "source": [
    "new_post = [\n",
    "        {\"author\" : \"Mike\",\n",
    "        \"text\" : \"Another post!\",\n",
    "        \"tags\" : [\"bulk\", \"insert\"],\n",
    "        \"date\" : datetime.datetime(2009, 11, 12, 11, 14)},\n",
    "\n",
    "        {\"author\" : \"Eliot\",\n",
    "        \"title\" : \"MongoDB is fun\",\n",
    "        \"text\" : \"and pretty easy too!\",\n",
    "        \"date\" : datetime.datetime(2009, 11, 10, 10, 45)}\n",
    "        ]\n"
   ]
  },
  {
   "cell_type": "code",
   "execution_count": 14,
   "metadata": {},
   "outputs": [],
   "source": [
    "result = posts.insert_many(new_post)"
   ]
  },
  {
   "cell_type": "code",
   "execution_count": 15,
   "metadata": {},
   "outputs": [
    {
     "name": "stdout",
     "output_type": "stream",
     "text": [
      "Mike My first blog post!\n",
      "Mike Another post!\n",
      "Eliot and pretty easy too!\n"
     ]
    }
   ],
   "source": [
    "for d in db['posts'].find():\n",
    "    print(d['author'], d['text'])"
   ]
  },
  {
   "cell_type": "code",
   "execution_count": 17,
   "metadata": {},
   "outputs": [
    {
     "name": "stdout",
     "output_type": "stream",
     "text": [
      "My first blog post!\n"
     ]
    }
   ],
   "source": [
    "print(db.posts.find_one({'author' : 'Mike'})['text'])"
   ]
  },
  {
   "cell_type": "code",
   "execution_count": null,
   "metadata": {},
   "outputs": [],
   "source": []
  }
 ],
 "metadata": {
  "kernelspec": {
   "display_name": "Python 3",
   "language": "python",
   "name": "python3"
  },
  "language_info": {
   "codemirror_mode": {
    "name": "ipython",
    "version": 3
   },
   "file_extension": ".py",
   "mimetype": "text/x-python",
   "name": "python",
   "nbconvert_exporter": "python",
   "pygments_lexer": "ipython3",
   "version": "3.8.1"
  },
  "orig_nbformat": 4
 },
 "nbformat": 4,
 "nbformat_minor": 2
}
